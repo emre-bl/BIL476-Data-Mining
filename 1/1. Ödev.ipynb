{
 "cells": [
  {
   "cell_type": "markdown",
   "id": "7512e08a",
   "metadata": {},
   "source": [
    "# 1. Ödev\n",
    "\n",
    "Bu ödevde herhangi bir şekilde varolan sofistike kütüphaneler kullanılamaz. Sadece rastgele sayı üretmek için kütüphane kullanabilirsiniz. Dokümanları vektörize etmek, uzaklık hesapları yapmak vs. gibi her şey için gereken kodu kendiniz yazmalısınız.\n",
    "\n",
    "Önemli not: ChatGpt'ye ben de kod yazdırabiliyorum :) ChatGPT'den alınan cevaplar kopya muamelesi görecektir.\n",
    "\n",
    "Ödeviniz Python 3 ile implement ediniz"
   ]
  },
  {
   "cell_type": "markdown",
   "id": "9870496b",
   "metadata": {},
   "source": [
    "**Soru 1** Bu soruda locality sensitive hashing (LSH) metodu yazacaksınız. Metodun çağrımı şu şekildedir: lsh(klasor_adi, k, b, r, similarity_threshold). \n",
    "- klasor_adi indeksin kurulacağı dosyaları tutan klasörün adresidir. Klasörün içinde birçok txt dosyası var olduğunu varsayabilirsiniz.\n",
    "- k 'k-shingle'in k değeridir. \n",
    "- b band sayısının değeridir.\n",
    "- r her banddaki satır (row) sayısıdır. \n",
    "\n",
    "Verilen  klasördeki dosyaları okuyarak LSH sistemi kurun. Bunun için her kelime bir token olacaktır. Öncelikle her kelime küçük harflere çevrilmeli ve noktalama işaretleri çıkarılmalı. Eğer k = 2 ise, “Ali okula gitti.” cümlesindeki ‘shingle’lar “ali okula” ve “okula gitti” olmalı. \n",
    "\n",
    "MinHash imzaları için 10 tane hash fonksiyonu kullanınız. \n",
    "\n",
    "Not: Sorunun cevabını kontrol ederken ben size verilen dosyalar ile aynı formatta olan farklı dosyalar kullanacağım.\n"
   ]
  },
  {
   "cell_type": "code",
   "execution_count": null,
   "id": "bf1f4cd0",
   "metadata": {},
   "outputs": [],
   "source": [
    "def lsh(klasor_adi, k, b, r): ... #Cevabınızı buraya yazınız"
   ]
  },
  {
   "cell_type": "markdown",
   "id": "d76617e8",
   "metadata": {},
   "source": [
    "**Soru 2)**  Önceki soruda hazırladığınız LSH indeksini kullanarak verilen bir dosyanın muhtemel benzerleri olan dosyaları ve o dokümanlar ile olan jaccard benzerliği sıralı bir şekilde ekrana yazdıran bir method yazınız.  En çok benzeyen dokümanlar ilk yazılmalı. Çıktının formatı aşağıdaki örnekteki gibi olmalı.  Örnekte sadece 2 dosya döndüğü varsayılmıştır.\n",
    "\n",
    "a.txt 0.7\n",
    "b.txt 0.65\n",
    "Toplam 2 dosya bulunmuştur.\n"
   ]
  },
  {
   "cell_type": "code",
   "execution_count": 1,
   "id": "7664ccf7",
   "metadata": {},
   "outputs": [],
   "source": [
    "# Cevabınız buraya yazınız. Eğer ihtiyaç duyarsanız metoda başka parametreler ekleyebilirsiniz\n",
    "def query(input_file):  ... "
   ]
  },
  {
   "cell_type": "markdown",
   "id": "616ff9f2",
   "metadata": {},
   "source": [
    "**Soru 3)** Bu soruda ödev ile verilen  metin dosyalarını kullanarak LSH indeksi kurup farklı k, b, ve r değerlerinin sonuç üzerindeki etkisine bakacaksınız.\n",
    "Spesifik olarak yapacağınız şunlar.\n",
    "- Ödevde verilen docs klasöründeki dokümanları b=5, r=4 iken k=2,3,4 değerlerini kullanarak 3 farklı LSH indeksi kurunuz. Ardından ödevde verilen sorgu.txt dosyasını bu 3 ayrı indekste aratıp toplamda kaç doküman döndüğü gösteren bir 'bar chart' çiziniz. \n",
    "- k=3, r=4 iken b değerini 3,4,5 olarak değiştiriniz ve birinci şıktaki gibi toplamda kaç doküman döndüğü gösteren bir 'bar chart' çiziniz. \n",
    "- k=3, r=4 iken r değerini 3,4,5 olarak değiştiriniz ve birinci şıktaki gibi toplamda kaç doküman döndüğü gösteren bir 'bar chart' çiziniz.\n",
    "\n",
    "Not:  Bu soruda ikinci sorudaki metotta ufak bir değişikliğe gidip ekrana bir şey bastırmadan sadece  kaç doküman bulunduğunu dönen bir metot olarak tanımlayın. Bu yeni metodu aşağıda 3. soru için tanımlanan yerde yapın."
   ]
  },
  {
   "cell_type": "code",
   "execution_count": null,
   "id": "9a22fcf9",
   "metadata": {},
   "outputs": [],
   "source": [
    "# 3. sorunun cevabı için ayrılan yer"
   ]
  },
  {
   "cell_type": "markdown",
   "id": "60664cf4",
   "metadata": {},
   "source": [
    "**Soru 4**\tBu soruda MeanShift algoritmasını implement edeceksiniz. Yazacağınız metot verilen klasördeki her dosyayı meanShift algoritmasına ve radius uzaklık parametresine göre kümeler ve çıktı olarak kümeleri print eder. Algoritma en başta klasör içindeki her dosya için bir ağırlık merkezi başlatır. Çıktısı şu formatta olmalıdır.\n",
    "\n",
    "Cluster-0: a,b,c\n",
    "\n",
    "Cluster-1: d,e,f \n",
    "\n",
    "...........\n",
    "\n",
    "Cluster-n: h\n",
    " \n",
    "Yukarıdaki örnekte a,b,c, vs. verilen klasördeki dosyaların isimleridir. Dokümanların vektörel gösterimi şöyle olmalıdır: Tüm dokümanlarda geçen en popüler 1000 kelimeyi bulun. Sonra her kelimenin varlığı/yokluğunu birer öznitelik olarak gösterin. Örneğin bir doküman “a b c d f” ise ve b, d ve s en popüler ‘kelimeler’ ise, bu dokümanın gösterimi [1,1,0] olmalıdır. Uzaklık için kosinüs uzaklığını kullanın.\n",
    "\n"
   ]
  },
  {
   "cell_type": "code",
   "execution_count": null,
   "id": "bf4faf6f",
   "metadata": {},
   "outputs": [],
   "source": [
    "def meanShift (String folder_name, float radius):"
   ]
  },
  {
   "cell_type": "markdown",
   "id": "de2c443e",
   "metadata": {},
   "source": [
    "**Soru 5** 4. soruda tanımladığınız metodu kullanarak ödev ile beraber verilen docs klasöründeki dosyaları cluster ediniz. Bunun için radius değerinini 0.1’den başlayıp 0.05 arttırarak 0.95’e kadar tüm değerlerde deneyin ve elde ettiğiniz cluster sayısını gösteriniz. Bunun için x ekseninde Radius değeri, y ekseninde cluster sayısı olan bir figür oluşturunuz."
   ]
  },
  {
   "cell_type": "code",
   "execution_count": null,
   "id": "ca77b06e",
   "metadata": {},
   "outputs": [],
   "source": []
  }
 ],
 "metadata": {
  "kernelspec": {
   "display_name": "Python 3",
   "language": "python",
   "name": "python3"
  },
  "language_info": {
   "codemirror_mode": {
    "name": "ipython",
    "version": 3
   },
   "file_extension": ".py",
   "mimetype": "text/x-python",
   "name": "python",
   "nbconvert_exporter": "python",
   "pygments_lexer": "ipython3",
   "version": "3.7.0"
  }
 },
 "nbformat": 4,
 "nbformat_minor": 5
}
