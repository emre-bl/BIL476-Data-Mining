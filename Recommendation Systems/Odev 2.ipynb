{
 "cells": [
  {
   "cell_type": "markdown",
   "id": "3418e4a0",
   "metadata": {},
   "source": [
    "Bu ödevinizde verilen ratings.csv dosyasını kullanacaksınız. Bu dosyada kullanıcıların farklı ürünler için verdikleri puanlar vardır. En yüksek puan 10'dur.\n",
    "\n",
    "Ödevinizde pandas, numpy kütüphanelerini kullanabilirsiniz. Ayrıca grafik oluşturmak için herhangi bir görselleştirme kütüphanesi kullanabilirsiniz. Bunlar dışında herhangi bir kütüphane kullanamazsınız.\n",
    "\n",
    "Tüm yakınlık hesaplamaları için kosinus benzerliğini kullanınız.\n",
    "\n",
    "**Sorularda belirtilmeyen bir parametre vs. var ise, o kısım sizin dizayn kararınıza bırakılmıştır demektir. Bu durumlarda aldığınız kararı belirtiniz.**"
   ]
  },
  {
   "cell_type": "markdown",
   "id": "146281fd",
   "metadata": {},
   "source": [
    "**Soru 1 [5 puan]** İlgili veri kümesinin “ratings.csv” verisinde satır sayısının mod 10’u sıfır olan satırlar test için gerisi eğitim için kullanılacaktır. Yani, 10. 20., 30., … satırlar test için kullanılacaktır. Eğitim ve test kümelerini belirleyiniz. Satırları saymaya 0'dan başlayınız."
   ]
  },
  {
   "cell_type": "code",
   "execution_count": 1,
   "id": "75c2a8ba",
   "metadata": {},
   "outputs": [],
   "source": [
    "import pandas as pd\n",
    "import numpy as np\n",
    "\n",
    "ratings = pd.read_csv('Ratings.csv')"
   ]
  },
  {
   "cell_type": "code",
   "execution_count": 2,
   "id": "c34c27aa",
   "metadata": {},
   "outputs": [
    {
     "data": {
      "text/html": [
       "<div>\n",
       "<style scoped>\n",
       "    .dataframe tbody tr th:only-of-type {\n",
       "        vertical-align: middle;\n",
       "    }\n",
       "\n",
       "    .dataframe tbody tr th {\n",
       "        vertical-align: top;\n",
       "    }\n",
       "\n",
       "    .dataframe thead th {\n",
       "        text-align: right;\n",
       "    }\n",
       "</style>\n",
       "<table border=\"1\" class=\"dataframe\">\n",
       "  <thead>\n",
       "    <tr style=\"text-align: right;\">\n",
       "      <th></th>\n",
       "      <th>User-ID</th>\n",
       "      <th>ISBN</th>\n",
       "      <th>Book-Rating</th>\n",
       "      <th>Price</th>\n",
       "    </tr>\n",
       "  </thead>\n",
       "  <tbody>\n",
       "    <tr>\n",
       "      <th>0</th>\n",
       "      <td>276725</td>\n",
       "      <td>034545104X</td>\n",
       "      <td>0</td>\n",
       "      <td>74</td>\n",
       "    </tr>\n",
       "    <tr>\n",
       "      <th>1</th>\n",
       "      <td>276726</td>\n",
       "      <td>155061224</td>\n",
       "      <td>5</td>\n",
       "      <td>37</td>\n",
       "    </tr>\n",
       "    <tr>\n",
       "      <th>2</th>\n",
       "      <td>276727</td>\n",
       "      <td>446520802</td>\n",
       "      <td>0</td>\n",
       "      <td>95</td>\n",
       "    </tr>\n",
       "    <tr>\n",
       "      <th>3</th>\n",
       "      <td>276729</td>\n",
       "      <td>052165615X</td>\n",
       "      <td>3</td>\n",
       "      <td>37</td>\n",
       "    </tr>\n",
       "    <tr>\n",
       "      <th>4</th>\n",
       "      <td>276729</td>\n",
       "      <td>521795028</td>\n",
       "      <td>6</td>\n",
       "      <td>59</td>\n",
       "    </tr>\n",
       "  </tbody>\n",
       "</table>\n",
       "</div>"
      ],
      "text/plain": [
       "   User-ID        ISBN  Book-Rating  Price\n",
       "0   276725  034545104X            0     74\n",
       "1   276726   155061224            5     37\n",
       "2   276727   446520802            0     95\n",
       "3   276729  052165615X            3     37\n",
       "4   276729   521795028            6     59"
      ]
     },
     "execution_count": 2,
     "metadata": {},
     "output_type": "execute_result"
    }
   ],
   "source": [
    "ratings.head(5)"
   ]
  },
  {
   "cell_type": "code",
   "execution_count": 3,
   "id": "51cf52dc",
   "metadata": {},
   "outputs": [],
   "source": [
    "test = ratings.iloc[9::10, :]\n",
    "train = ratings.drop(ratings.index[9::10])\n",
    "\n",
    "train.reset_index(drop=True, inplace=True)\n",
    "test.reset_index(drop=True, inplace=True)"
   ]
  },
  {
   "cell_type": "markdown",
   "id": "1e173bd4",
   "metadata": {},
   "source": [
    "**Soru 2 [20 puan]** Item bazlı “Collaborative filtering” yöntemini kullanarak en yakın 5 komşuyu göz önünde alarak test kümesinin ilk beş değeri için yapılan tahmin değerlerini ve gerçek değeri gösteriniz. "
   ]
  },
  {
   "cell_type": "code",
   "execution_count": 4,
   "id": "147fe057",
   "metadata": {},
   "outputs": [],
   "source": [
    "import numpy as np\n",
    "\n",
    "def calculate_similarity(main_vec, other_vec):\n",
    "    fill_value = np.nan\n",
    "    filled_main = [fill_value if np.isnan(x) else x for x in main_vec]\n",
    "    main_vec = np.array(filled_main)\n",
    "\n",
    "    filled_other = [fill_value if np.isnan(x) else x for x in other_vec]\n",
    "    other_vec = np.array(filled_other)\n",
    "    \n",
    "    main_vec_indices = np.where(~np.isnan(main_vec))[0]\n",
    "    other_vec_indices = np.where(~np.isnan(other_vec))[0]\n",
    "\n",
    "    common_indices = np.intersect1d(main_vec_indices, other_vec_indices)\n",
    "\n",
    "    if common_indices.size == 0:\n",
    "        return 0\n",
    "\n",
    "    main_mean = np.nanmean(main_vec)\n",
    "    other_mean = np.nanmean(other_vec)\n",
    "\n",
    "    main_vec_common = main_vec[common_indices] - main_mean\n",
    "    other_vec_common = other_vec[common_indices] - other_mean\n",
    "\n",
    "    dot_product = np.dot(main_vec_common, other_vec_common)\n",
    "    norm_main = np.linalg.norm(main_vec_common)\n",
    "    norm_other = np.linalg.norm(other_vec_common)\n",
    "\n",
    "    if norm_main == 0:\n",
    "        norm_main = 0.001\n",
    "    if norm_other == 0:\n",
    "        norm_other = 0.001\n",
    "\n",
    "    similarity = dot_product / (norm_main * norm_other)\n",
    "    \n",
    "    return similarity"
   ]
  },
  {
   "cell_type": "code",
   "execution_count": 5,
   "id": "860117b0",
   "metadata": {},
   "outputs": [
    {
     "name": "stdout",
     "output_type": "stream",
     "text": [
      "Train shape : (943718, 4)\n",
      "User-ID unique : 90101\n",
      "ISBN unique : 303012\n"
     ]
    }
   ],
   "source": [
    "print(\"Train shape :\", train.shape)\n",
    "print(\"User-ID unique :\", train['User-ID'].nunique())\n",
    "print(\"ISBN unique :\", train['ISBN'].nunique())"
   ]
  },
  {
   "cell_type": "code",
   "execution_count": 6,
   "id": "88148807",
   "metadata": {},
   "outputs": [
    {
     "data": {
      "text/html": [
       "<div>\n",
       "<style scoped>\n",
       "    .dataframe tbody tr th:only-of-type {\n",
       "        vertical-align: middle;\n",
       "    }\n",
       "\n",
       "    .dataframe tbody tr th {\n",
       "        vertical-align: top;\n",
       "    }\n",
       "\n",
       "    .dataframe thead th {\n",
       "        text-align: right;\n",
       "    }\n",
       "</style>\n",
       "<table border=\"1\" class=\"dataframe\">\n",
       "  <thead>\n",
       "    <tr style=\"text-align: right;\">\n",
       "      <th></th>\n",
       "      <th>User-ID</th>\n",
       "      <th>ISBN</th>\n",
       "      <th>Book-Rating</th>\n",
       "      <th>Price</th>\n",
       "    </tr>\n",
       "  </thead>\n",
       "  <tbody>\n",
       "    <tr>\n",
       "      <th>0</th>\n",
       "      <td>276745</td>\n",
       "      <td>342310538</td>\n",
       "      <td>10</td>\n",
       "      <td>69</td>\n",
       "    </tr>\n",
       "    <tr>\n",
       "      <th>1</th>\n",
       "      <td>276747</td>\n",
       "      <td>671537458</td>\n",
       "      <td>9</td>\n",
       "      <td>31</td>\n",
       "    </tr>\n",
       "    <tr>\n",
       "      <th>2</th>\n",
       "      <td>276755</td>\n",
       "      <td>451166892</td>\n",
       "      <td>5</td>\n",
       "      <td>13</td>\n",
       "    </tr>\n",
       "    <tr>\n",
       "      <th>3</th>\n",
       "      <td>276762</td>\n",
       "      <td>3404611306</td>\n",
       "      <td>0</td>\n",
       "      <td>72</td>\n",
       "    </tr>\n",
       "    <tr>\n",
       "      <th>4</th>\n",
       "      <td>276762</td>\n",
       "      <td>3453213025</td>\n",
       "      <td>3</td>\n",
       "      <td>10</td>\n",
       "    </tr>\n",
       "  </tbody>\n",
       "</table>\n",
       "</div>"
      ],
      "text/plain": [
       "   User-ID        ISBN  Book-Rating  Price\n",
       "0   276745   342310538           10     69\n",
       "1   276747   671537458            9     31\n",
       "2   276755   451166892            5     13\n",
       "3   276762  3404611306            0     72\n",
       "4   276762  3453213025            3     10"
      ]
     },
     "execution_count": 6,
     "metadata": {},
     "output_type": "execute_result"
    }
   ],
   "source": [
    "test.head(5)"
   ]
  },
  {
   "cell_type": "markdown",
   "id": "ec365459",
   "metadata": {},
   "source": [
    "**Soru 3 [20 puan]** Kullanıcı bazlı “Collaborative filtering” yöntemini kullanarak en yakın 5 komşuyu göz önünde alarak test kümesinin ilk beş değeri için yapılan tahmin değerlerini ve gerçek değeri gösteriniz."
   ]
  },
  {
   "cell_type": "code",
   "execution_count": 16,
   "id": "f0c1bf9c",
   "metadata": {},
   "outputs": [],
   "source": [
    "def User_user_filter(data, user_id, item_id, k=10, shift = 1000):\n",
    "\n",
    "    utility_matrix = None\n",
    "    if item_id not in data['ISBN'].values:\n",
    "        print(\"Item not found!\")\n",
    "        return\n",
    "\n",
    "    filtered_data = data[data['ISBN'] == item_id]\n",
    "    user_ids_with_isbn = filtered_data['User-ID'].tolist()\n",
    "    user_ids_with_isbn.append(user_id)\n",
    "\n",
    "    temp_data = data[data['User-ID'].isin(user_ids_with_isbn)]\n",
    "    del filtered_data\n",
    "\n",
    "    temp_data.drop_duplicates(subset=['User-ID', 'ISBN'], inplace=True)\n",
    "\n",
    "    if user_id not in temp_data['User-ID'].values:\n",
    "        print(\"User not found!\")\n",
    "        return 0\n",
    "\n",
    "    import pandas as pd\n",
    "\n",
    "    utility_matrix = pd.DataFrame()\n",
    "\n",
    "    for i in range(0, temp_data.shape[0], shift):\n",
    "        chunk = temp_data.iloc[i:i + shift, :]\n",
    "        chunk_table = chunk.groupby(['User-ID', 'ISBN'])['Book-Rating'].max().unstack(fill_value=np.nan)\n",
    "        chunk_table.index.name = None\n",
    "        chunk_table.columns.name = None\n",
    "        sparse_dtype = pd.SparseDtype(float, fill_value=np.nan)\n",
    "        chunk_table = chunk_table.astype(sparse_dtype)\n",
    "\n",
    "        # Combine chunk_table with utility_matrix using vectorized operation\n",
    "        utility_matrix = utility_matrix.combine_first(chunk_table)\n",
    "\n",
    "        utility_matrix = utility_matrix.loc[:, ~utility_matrix.columns.duplicated()]\n",
    "        utility_matrix = utility_matrix.astype(sparse_dtype)\n",
    "\n",
    "\n",
    "    del temp_data\n",
    "    main_vec = utility_matrix.loc[user_id].values\n",
    "\n",
    "    utility_matrix['similarity'] = utility_matrix.apply(lambda x: calculate_similarity(main_vec, x.values), axis=1)\n",
    "\n",
    "    utility_matrix.drop(user_id, axis=0, inplace=True)\n",
    "    most_similar_users = utility_matrix.sort_values(by='similarity', ascending=False).index[:k+1]\n",
    "\n",
    "    similarities = utility_matrix.loc[most_similar_users]['similarity']\n",
    "    ratings = utility_matrix.loc[most_similar_users][item_id]\n",
    "\n",
    "    if np.dot(ratings, similarities) == 0:\n",
    "        return 0\n",
    "    \n",
    "    rec_score = round(np.dot(ratings, similarities) / similarities.sum(),2)\n",
    "\n",
    "    return rec_score"
   ]
  },
  {
   "cell_type": "code",
   "execution_count": 8,
   "id": "2f5ae863",
   "metadata": {},
   "outputs": [
    {
     "data": {
      "text/html": [
       "<div>\n",
       "<style scoped>\n",
       "    .dataframe tbody tr th:only-of-type {\n",
       "        vertical-align: middle;\n",
       "    }\n",
       "\n",
       "    .dataframe tbody tr th {\n",
       "        vertical-align: top;\n",
       "    }\n",
       "\n",
       "    .dataframe thead th {\n",
       "        text-align: right;\n",
       "    }\n",
       "</style>\n",
       "<table border=\"1\" class=\"dataframe\">\n",
       "  <thead>\n",
       "    <tr style=\"text-align: right;\">\n",
       "      <th></th>\n",
       "      <th>User-ID</th>\n",
       "      <th>ISBN</th>\n",
       "      <th>Book-Rating</th>\n",
       "      <th>Price</th>\n",
       "    </tr>\n",
       "  </thead>\n",
       "  <tbody>\n",
       "    <tr>\n",
       "      <th>0</th>\n",
       "      <td>276745</td>\n",
       "      <td>342310538</td>\n",
       "      <td>10</td>\n",
       "      <td>69</td>\n",
       "    </tr>\n",
       "    <tr>\n",
       "      <th>1</th>\n",
       "      <td>276747</td>\n",
       "      <td>671537458</td>\n",
       "      <td>9</td>\n",
       "      <td>31</td>\n",
       "    </tr>\n",
       "    <tr>\n",
       "      <th>2</th>\n",
       "      <td>276755</td>\n",
       "      <td>451166892</td>\n",
       "      <td>5</td>\n",
       "      <td>13</td>\n",
       "    </tr>\n",
       "    <tr>\n",
       "      <th>3</th>\n",
       "      <td>276762</td>\n",
       "      <td>3404611306</td>\n",
       "      <td>0</td>\n",
       "      <td>72</td>\n",
       "    </tr>\n",
       "    <tr>\n",
       "      <th>4</th>\n",
       "      <td>276762</td>\n",
       "      <td>3453213025</td>\n",
       "      <td>3</td>\n",
       "      <td>10</td>\n",
       "    </tr>\n",
       "  </tbody>\n",
       "</table>\n",
       "</div>"
      ],
      "text/plain": [
       "   User-ID        ISBN  Book-Rating  Price\n",
       "0   276745   342310538           10     69\n",
       "1   276747   671537458            9     31\n",
       "2   276755   451166892            5     13\n",
       "3   276762  3404611306            0     72\n",
       "4   276762  3453213025            3     10"
      ]
     },
     "execution_count": 8,
     "metadata": {},
     "output_type": "execute_result"
    }
   ],
   "source": [
    "test.head(5)"
   ]
  },
  {
   "cell_type": "code",
   "execution_count": 10,
   "id": "c4312729",
   "metadata": {},
   "outputs": [
    {
     "name": "stdout",
     "output_type": "stream",
     "text": [
      "User not found!\n",
      "Gerçek Değer : 10\n",
      "Tahmin Değeri : 0\n"
     ]
    }
   ],
   "source": [
    "a = User_user_filter(train, 276745 , '342310538', k= 5)\n",
    "print('Gerçek Değer :' ,test.iloc[0]['Book-Rating'])\n",
    "print('Tahmin Değeri :' ,a)"
   ]
  },
  {
   "cell_type": "code",
   "execution_count": 9,
   "id": "7160daff",
   "metadata": {},
   "outputs": [
    {
     "name": "stderr",
     "output_type": "stream",
     "text": [
      "C:\\Users\\Emre\\AppData\\Local\\Temp\\ipykernel_4120\\250329578.py:13: SettingWithCopyWarning: \n",
      "A value is trying to be set on a copy of a slice from a DataFrame\n",
      "\n",
      "See the caveats in the documentation: https://pandas.pydata.org/pandas-docs/stable/user_guide/indexing.html#returning-a-view-versus-a-copy\n",
      "  temp_data.drop_duplicates(subset=['User-ID', 'ISBN'], inplace=True)\n"
     ]
    },
    {
     "name": "stdout",
     "output_type": "stream",
     "text": [
      "Gerçek Değer : 10\n",
      "Tahmin Değeri : 1.3333333333333333\n"
     ]
    }
   ],
   "source": [
    "a = User_user_filter(train, 276747 , '671537458', k= 5)\n",
    "print('Gerçek Değer :' ,test.iloc[0]['Book-Rating'])\n",
    "print('Tahmin Değeri :' ,a)"
   ]
  },
  {
   "cell_type": "code",
   "execution_count": 14,
   "id": "84c52657",
   "metadata": {},
   "outputs": [
    {
     "name": "stdout",
     "output_type": "stream",
     "text": [
      "User not found!\n",
      "Gerçek Değer : 10\n",
      "Tahmin Değeri : 0\n"
     ]
    },
    {
     "name": "stderr",
     "output_type": "stream",
     "text": [
      "C:\\Users\\Emre\\AppData\\Local\\Temp\\ipykernel_24960\\730667034.py:13: SettingWithCopyWarning: \n",
      "A value is trying to be set on a copy of a slice from a DataFrame\n",
      "\n",
      "See the caveats in the documentation: https://pandas.pydata.org/pandas-docs/stable/user_guide/indexing.html#returning-a-view-versus-a-copy\n",
      "  temp_data.drop_duplicates(subset=['User-ID', 'ISBN'], inplace=True)\n"
     ]
    }
   ],
   "source": [
    "a = User_user_filter(train, 276755 , '451166892', k= 5)\n",
    "print('Gerçek Değer :' ,test.iloc[0]['Book-Rating'])\n",
    "print('Tahmin Değeri :' ,a)"
   ]
  },
  {
   "cell_type": "code",
   "execution_count": 13,
   "id": "f8d2c7a1",
   "metadata": {},
   "outputs": [
    {
     "name": "stderr",
     "output_type": "stream",
     "text": [
      "C:\\Users\\Emre\\AppData\\Local\\Temp\\ipykernel_24960\\730667034.py:13: SettingWithCopyWarning: \n",
      "A value is trying to be set on a copy of a slice from a DataFrame\n",
      "\n",
      "See the caveats in the documentation: https://pandas.pydata.org/pandas-docs/stable/user_guide/indexing.html#returning-a-view-versus-a-copy\n",
      "  temp_data.drop_duplicates(subset=['User-ID', 'ISBN'], inplace=True)\n"
     ]
    },
    {
     "name": "stdout",
     "output_type": "stream",
     "text": [
      "Gerçek Değer : 10\n",
      "Tahmin Değeri : 0\n"
     ]
    }
   ],
   "source": [
    "a = User_user_filter(train, 276762 , '3404611306', k= 5)\n",
    "print('Gerçek Değer :' ,test.iloc[0]['Book-Rating'])\n",
    "print('Tahmin Değeri :' ,a)"
   ]
  },
  {
   "cell_type": "code",
   "execution_count": 17,
   "id": "625a4a6a",
   "metadata": {},
   "outputs": [
    {
     "name": "stdout",
     "output_type": "stream",
     "text": [
      "Item not found!\n",
      "Gerçek Değer : 10\n",
      "Tahmin Değeri : None\n"
     ]
    }
   ],
   "source": [
    "a = User_user_filter(train, 276762 , '3453213025', k= 5)\n",
    "print('Gerçek Değer :' ,test.iloc[0]['Book-Rating'])\n",
    "print('Tahmin Değeri :' ,a)"
   ]
  },
  {
   "cell_type": "markdown",
   "id": "d79e1221",
   "metadata": {},
   "source": [
    "**Soru 4 [15 puan]**  Item bazlı “Collaborative filtering” yöntemini kullanarak en yakın komşu sayısı 1, 3, 5, ve 7 olduğunda test kümesi üzerinde RMSE değerlerini hesaplayınız ve sonuçlarınızı bir figür ya da tablo gibi açıkca anlaşılacak bir şekilde gösteriniz."
   ]
  },
  {
   "cell_type": "code",
   "execution_count": null,
   "id": "686055b3",
   "metadata": {},
   "outputs": [],
   "source": [
    "# cevabınızı buraya yazacaksınız"
   ]
  },
  {
   "cell_type": "markdown",
   "id": "fb0e3856",
   "metadata": {},
   "source": [
    "**Soru 5 [15 puan]**  Kullanıcı bazlı “Collaborative filtering” yöntemini kullanarak en yakın komşu sayısı 1, 3, 5, ve 7 olduğunda test kümesi üzerinde RMSE değerlerini hesaplayınız ve sonuçlarınızı bir figür ya da tablo gibi açıkca anlaşılacak bir şekilde gösteriniz."
   ]
  },
  {
   "cell_type": "code",
   "execution_count": null,
   "id": "8c1e79d3",
   "metadata": {},
   "outputs": [],
   "source": [
    "# cevabınızı buraya yazacaksınız"
   ]
  },
  {
   "cell_type": "markdown",
   "id": "27925990",
   "metadata": {},
   "source": [
    "**Soru 6 [25 puan]**  Kullanıcıya döndüğünüz ürünlerden ilk 5'inde 9 veya 10 puan olan ürünleri satın alacak. \n",
    "\n",
    "a) Bir kullanıcı maksimum 5 ürün alacaksa, test kümesinde maksimum toplam satış kaç olabilir?\n",
    "\n",
    "\n",
    "b) Önceki sorularda geliştirdiğiniz kullanıcı bazlı “Collaborative filtering” ve Item bazlı “Collaborative filtering” yöntemlerine göre firmanın kazanacağı parayı hesaplayınız. “Collaborative filtering” yöntemlerinde bakılacak en yakın komşu sayısı 5'tir.\n",
    "\n",
    "c) Firmanın kazandığı parayı da arttıracak şekilde Item bazlı “Collaborative filtering” yöntemini geliştiriniz. Önerdiğiniz yöntem ile ne kadar kazanç olacağını hesaplayınız."
   ]
  },
  {
   "cell_type": "code",
   "execution_count": null,
   "id": "01792ed6",
   "metadata": {},
   "outputs": [],
   "source": [
    "# cevabınızı buraya yazacaksınız"
   ]
  }
 ],
 "metadata": {
  "kernelspec": {
   "display_name": "Python 3",
   "language": "python",
   "name": "python3"
  },
  "language_info": {
   "codemirror_mode": {
    "name": "ipython",
    "version": 3
   },
   "file_extension": ".py",
   "mimetype": "text/x-python",
   "name": "python",
   "nbconvert_exporter": "python",
   "pygments_lexer": "ipython3",
   "version": "3.9.7"
  }
 },
 "nbformat": 4,
 "nbformat_minor": 5
}
