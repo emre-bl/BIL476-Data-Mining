{
 "cells": [
  {
   "cell_type": "markdown",
   "id": "3418e4a0",
   "metadata": {},
   "source": [
    "Bu ödevinizde verilen ratings.csv dosyasını kullanacaksınız. Bu dosyada kullanıcıların farklı ürünler için verdikleri puanlar vardır. En yüksek puan 10'dur.\n",
    "\n",
    "Ödevinizde pandas, numpy kütüphanelerini kullanabilirsiniz. Ayrıca grafik oluşturmak için herhangi bir görselleştirme kütüphanesi kullanabilirsiniz. Bunlar dışında herhangi bir kütüphane kullanamazsınız.\n",
    "\n",
    "Tüm yakınlık hesaplamaları için kosinus benzerliğini kullanınız.\n",
    "\n",
    "**Sorularda belirtilmeyen bir parametre vs. var ise, o kısım sizin dizayn kararınıza bırakılmıştır demektir. Bu durumlarda aldığınız kararı belirtiniz.**"
   ]
  },
  {
   "cell_type": "markdown",
   "id": "146281fd",
   "metadata": {},
   "source": [
    "**Soru 1 [5 puan]** İlgili veri kümesinin “ratings.csv” verisinde satır sayısının mod 10’u sıfır olan satırlar test için gerisi eğitim için kullanılacaktır. Yani, 10. 20., 30., … satırlar test için kullanılacaktır. Eğitim ve test kümelerini belirleyiniz. Satırları saymaya 0'dan başlayınız."
   ]
  },
  {
   "cell_type": "code",
   "execution_count": null,
   "id": "51cf52dc",
   "metadata": {},
   "outputs": [],
   "source": [
    "# cevabınızı buraya yazacaksınız\n",
    "\n",
    "\n",
    "\n",
    "\n",
    "train = ...\n",
    "test = ..."
   ]
  },
  {
   "cell_type": "markdown",
   "id": "1e173bd4",
   "metadata": {},
   "source": [
    "**Soru 2 [20 puan]** Item bazlı “Collaborative filtering” yöntemini kullanarak en yakın 5 komşuyu göz önünde alarak test kümesinin ilk beş değeri için yapılan tahmin değerlerini ve gerçek değeri gösteriniz. "
   ]
  },
  {
   "cell_type": "code",
   "execution_count": null,
   "id": "5bd399d0",
   "metadata": {},
   "outputs": [],
   "source": [
    "# cevabınızı buraya yazacaksınız"
   ]
  },
  {
   "cell_type": "markdown",
   "id": "ec365459",
   "metadata": {},
   "source": [
    "**Soru 3 [20 puan]** Kullanıcı bazlı “Collaborative filtering” yöntemini kullanarak en yakın 5 komşuyu göz önünde alarak test kümesinin ilk beş değeri için yapılan tahmin değerlerini ve gerçek değeri gösteriniz."
   ]
  },
  {
   "cell_type": "code",
   "execution_count": null,
   "id": "f0c1bf9c",
   "metadata": {},
   "outputs": [],
   "source": [
    "# cevabınızı buraya yazacaksınız"
   ]
  },
  {
   "cell_type": "markdown",
   "id": "d79e1221",
   "metadata": {},
   "source": [
    "**Soru 4 [15 puan]**  Item bazlı “Collaborative filtering” yöntemini kullanarak en yakın komşu sayısı 1, 3, 5, ve 7 olduğunda test kümesi üzerinde RMSE değerlerini hesaplayınız ve sonuçlarınızı bir figür ya da tablo gibi açıkca anlaşılacak bir şekilde gösteriniz."
   ]
  },
  {
   "cell_type": "code",
   "execution_count": null,
   "id": "686055b3",
   "metadata": {},
   "outputs": [],
   "source": [
    "# cevabınızı buraya yazacaksınız"
   ]
  },
  {
   "cell_type": "markdown",
   "id": "fb0e3856",
   "metadata": {},
   "source": [
    "**Soru 5 [15 puan]**  Kullanıcı bazlı “Collaborative filtering” yöntemini kullanarak en yakın komşu sayısı 1, 3, 5, ve 7 olduğunda test kümesi üzerinde RMSE değerlerini hesaplayınız ve sonuçlarınızı bir figür ya da tablo gibi açıkca anlaşılacak bir şekilde gösteriniz."
   ]
  },
  {
   "cell_type": "code",
   "execution_count": null,
   "id": "8c1e79d3",
   "metadata": {},
   "outputs": [],
   "source": [
    "# cevabınızı buraya yazacaksınız"
   ]
  },
  {
   "cell_type": "markdown",
   "id": "27925990",
   "metadata": {},
   "source": [
    "**Soru 6 [25 puan]**  Kullanıcıya döndüğünüz ürünlerden ilk 5'inde 9 veya 10 puan olan ürünleri satın alacak. \n",
    "\n",
    "a) Bir kullanıcı maksimum 5 ürün alacaksa, test kümesinde maksimum toplam satış kaç olabilir?\n",
    "\n",
    "\n",
    "b) Önceki sorularda geliştirdiğiniz kullanıcı bazlı “Collaborative filtering” ve Item bazlı “Collaborative filtering” yöntemlerine göre firmanın kazanacağı parayı hesaplayınız. “Collaborative filtering” yöntemlerinde bakılacak en yakın komşu sayısı 5'tir.\n",
    "\n",
    "c) Firmanın kazandığı parayı da arttıracak şekilde Item bazlı “Collaborative filtering” yöntemini geliştiriniz. Önerdiğiniz yöntem ile ne kadar kazanç olacağını hesaplayınız."
   ]
  },
  {
   "cell_type": "code",
   "execution_count": null,
   "id": "01792ed6",
   "metadata": {},
   "outputs": [],
   "source": [
    "# cevabınızı buraya yazacaksınız"
   ]
  }
 ],
 "metadata": {
  "kernelspec": {
   "display_name": "Python 3",
   "language": "python",
   "name": "python3"
  },
  "language_info": {
   "codemirror_mode": {
    "name": "ipython",
    "version": 3
   },
   "file_extension": ".py",
   "mimetype": "text/x-python",
   "name": "python",
   "nbconvert_exporter": "python",
   "pygments_lexer": "ipython3",
   "version": "3.7.0"
  }
 },
 "nbformat": 4,
 "nbformat_minor": 5
}
