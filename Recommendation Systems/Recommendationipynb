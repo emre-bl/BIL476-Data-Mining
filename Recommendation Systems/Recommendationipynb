{
 "cells": [
  {
   "cell_type": "markdown",
   "id": "3418e4a0",
   "metadata": {},
   "source": [
    "Bu ödevinizde verilen ratings.csv dosyasını kullanacaksınız. Bu dosyada kullanıcıların farklı ürünler için verdikleri puanlar vardır. En yüksek puan 10'dur.\n",
    "\n",
    "Ödevinizde pandas, numpy kütüphanelerini kullanabilirsiniz. Ayrıca grafik oluşturmak için herhangi bir görselleştirme kütüphanesi kullanabilirsiniz. Bunlar dışında herhangi bir kütüphane kullanamazsınız.\n",
    "\n",
    "Tüm yakınlık hesaplamaları için kosinus benzerliğini kullanınız.\n",
    "\n",
    "**Sorularda belirtilmeyen bir parametre vs. var ise, o kısım sizin dizayn kararınıza bırakılmıştır demektir. Bu durumlarda aldığınız kararı belirtiniz.**"
   ]
  },
  {
   "cell_type": "markdown",
   "id": "146281fd",
   "metadata": {},
   "source": [
    "**Soru 1 [5 puan]** İlgili veri kümesinin “ratings.csv” verisinde satır sayısının mod 10’u sıfır olan satırlar test için gerisi eğitim için kullanılacaktır. Yani, 10. 20., 30., … satırlar test için kullanılacaktır. Eğitim ve test kümelerini belirleyiniz. Satırları saymaya 0'dan başlayınız."
   ]
  },
  {
   "cell_type": "code",
   "execution_count": 1,
   "id": "75c2a8ba",
   "metadata": {},
   "outputs": [],
   "source": [
    "import pandas as pd\n",
    "import numpy as np\n",
    "\n",
    "ratings = pd.read_csv('Ratings.csv')\n",
    "ratings = ratings.drop_duplicates(subset=['User-ID', 'ISBN'], keep='first')"
   ]
  },
  {
   "cell_type": "code",
   "execution_count": 2,
   "id": "55bdb46f",
   "metadata": {},
   "outputs": [],
   "source": [
    "import warnings\n",
    "warnings.filterwarnings('ignore')"
   ]
  },
  {
   "cell_type": "code",
   "execution_count": 3,
   "id": "51cf52dc",
   "metadata": {},
   "outputs": [],
   "source": [
    "test = ratings.iloc[9::10, :]\n",
    "train = ratings.drop(ratings.index[9::10])\n",
    "\n",
    "train.reset_index(drop=True, inplace=True)\n",
    "test.reset_index(drop=True, inplace=True)"
   ]
  },
  {
   "cell_type": "code",
   "execution_count": 5,
   "id": "64a56c89",
   "metadata": {},
   "outputs": [
    {
     "name": "stdout",
     "output_type": "stream",
     "text": [
      "Before dropping 0 values:  (943605, 4)\n",
      "After dropping 0 values:  (357457, 4)\n"
     ]
    }
   ],
   "source": [
    "print(\"Before dropping 0 values: \", train.shape)\n",
    "train = train[train['Book-Rating'] != 0]\n",
    "print(\"After dropping 0 values: \", train.shape)"
   ]
  },
  {
   "cell_type": "markdown",
   "id": "1e173bd4",
   "metadata": {},
   "source": [
    "**Soru 2 [20 puan]** Item bazlı “Collaborative filtering” yöntemini kullanarak en yakın 5 komşuyu göz önünde alarak test kümesinin ilk beş değeri için yapılan tahmin değerlerini ve gerçek değeri gösteriniz. "
   ]
  },
  {
   "cell_type": "code",
   "execution_count": 6,
   "id": "147fe057",
   "metadata": {},
   "outputs": [],
   "source": [
    "import numpy as np\n",
    "\n",
    "def calculate_similarity(main_vec, other_vec): # pearson correlation coefficient\n",
    "    fill_value = np.nan\n",
    "    filled_main = [fill_value if np.isnan(x) else x for x in main_vec]\n",
    "    main_vec = np.array(filled_main)\n",
    "\n",
    "    filled_other = [fill_value if np.isnan(x) else x for x in other_vec]\n",
    "    other_vec = np.array(filled_other)\n",
    "    \n",
    "    main_vec_indices = np.where(~np.isnan(main_vec))[0]\n",
    "    other_vec_indices = np.where(~np.isnan(other_vec))[0]\n",
    "\n",
    "    common_indices = np.intersect1d(main_vec_indices, other_vec_indices)\n",
    "\n",
    "    if common_indices.size == 0:\n",
    "        return 0\n",
    "    \n",
    "    main_mean = np.nanmean(main_vec)\n",
    "    other_mean = np.nanmean(other_vec)\n",
    "\n",
    "    main_vec_common = main_vec[common_indices]\n",
    "    other_vec_common = other_vec[common_indices]\n",
    "\n",
    "    main_vec_common = main_vec_common - main_mean\n",
    "    other_vec_common = other_vec_common - other_mean\n",
    "\n",
    "    dot_product = np.dot(main_vec_common, other_vec_common)\n",
    "    norm_main = np.linalg.norm(main_vec_common)\n",
    "    norm_other = np.linalg.norm(other_vec_common)\n",
    "\n",
    "    if dot_product == 0:\n",
    "        intersection = np.minimum(main_vec[common_indices], other_vec[common_indices])\n",
    "        union = np.maximum(main_vec[common_indices], other_vec[common_indices])\n",
    "        return np.sum(intersection) / np.sum(union)\n",
    "       \n",
    "    similarity = dot_product / (norm_main * norm_other)\n",
    "    \n",
    "    return similarity"
   ]
  },
  {
   "cell_type": "code",
   "execution_count": 8,
   "id": "79667d32",
   "metadata": {},
   "outputs": [],
   "source": [
    "def Item_item_filter(data, item_id, user_id, k=10, print_output=False):\n",
    "\n",
    "    if item_id not in data['ISBN'].unique():\n",
    "        if print_output:\n",
    "            print(\"Item not found in train data.\")\n",
    "        return None \n",
    "    \n",
    "    if user_id not in data['User-ID'].unique():\n",
    "        if print_output:\n",
    "            print(\"User not found in train data.\")\n",
    "        return None\n",
    "\n",
    "    filtered_data = data[data['User-ID'] == user_id]\n",
    "    item_ids_with_user = filtered_data['ISBN'].tolist()\n",
    "    item_ids_with_user.append(item_id)\n",
    "\n",
    "    temp_data = data[data['ISBN'].isin(item_ids_with_user)]\n",
    "\n",
    "    utility_matrix = temp_data.groupby(['ISBN','User-ID'])['Book-Rating'].max().unstack(fill_value=np.nan)\n",
    "\n",
    "    utility_matrix.index.name = None\n",
    "    utility_matrix.columns.name = None\n",
    "    sparse_dtype = pd.SparseDtype(float, fill_value=np.nan)\n",
    "    utility_matrix = utility_matrix.astype(sparse_dtype)\n",
    "    utility_matrix = utility_matrix.loc[:, ~utility_matrix.columns.duplicated()]\n",
    "\n",
    "    main_vec = utility_matrix.loc[item_id].values\n",
    "\n",
    "    utility_matrix.drop(item_id, axis=0, inplace=True)\n",
    "    utility_matrix['similarity'] = utility_matrix.apply(lambda x: calculate_similarity(main_vec, x.values), axis=1)\n",
    "\n",
    "    most_similar_items = utility_matrix.sort_values(by='similarity', ascending=False).index[:k]\n",
    "\n",
    "    similarities = utility_matrix.loc[most_similar_items]['similarity']\n",
    "    ratings = utility_matrix.loc[most_similar_items][user_id]\n",
    "\n",
    "    if similarities.sum() == 0:\n",
    "        rec_score = data[data['ISBN'] == item_id]['Book-Rating'].mean()\n",
    "        return round(rec_score,2)\n",
    "    \n",
    "    rec_score = round(np.dot(ratings, similarities) / similarities.sum(),2)\n",
    "    \n",
    "    return rec_score"
   ]
  },
  {
   "cell_type": "code",
   "execution_count": 9,
   "id": "f8fca556",
   "metadata": {},
   "outputs": [
    {
     "data": {
      "text/plain": [
       "0.8976077309958997"
      ]
     },
     "execution_count": 9,
     "metadata": {},
     "output_type": "execute_result"
    }
   ],
   "source": [
    "a = [0 , 2, 5 , np.nan, 7, 9, np.nan, 10, 12, 15, np.nan]\n",
    "b = [np.nan, 3, 6, 8, np.nan, 10, 12, np.nan, 14, 16, 18]\n",
    "\n",
    "calculate_similarity(a, b)"
   ]
  },
  {
   "cell_type": "code",
   "execution_count": 10,
   "id": "860117b0",
   "metadata": {},
   "outputs": [
    {
     "name": "stdout",
     "output_type": "stream",
     "text": [
      "Train shape : (357457, 4)\n",
      "User-ID unique : 66455\n",
      "ISBN unique : 162558\n"
     ]
    }
   ],
   "source": [
    "print(\"Train shape :\", train.shape)\n",
    "print(\"User-ID unique :\", train['User-ID'].nunique())\n",
    "print(\"ISBN unique :\", train['ISBN'].nunique())"
   ]
  },
  {
   "cell_type": "code",
   "execution_count": 11,
   "id": "88148807",
   "metadata": {},
   "outputs": [
    {
     "data": {
      "text/html": [
       "<div>\n",
       "<style scoped>\n",
       "    .dataframe tbody tr th:only-of-type {\n",
       "        vertical-align: middle;\n",
       "    }\n",
       "\n",
       "    .dataframe tbody tr th {\n",
       "        vertical-align: top;\n",
       "    }\n",
       "\n",
       "    .dataframe thead th {\n",
       "        text-align: right;\n",
       "    }\n",
       "</style>\n",
       "<table border=\"1\" class=\"dataframe\">\n",
       "  <thead>\n",
       "    <tr style=\"text-align: right;\">\n",
       "      <th></th>\n",
       "      <th>User-ID</th>\n",
       "      <th>ISBN</th>\n",
       "      <th>Book-Rating</th>\n",
       "      <th>Price</th>\n",
       "    </tr>\n",
       "  </thead>\n",
       "  <tbody>\n",
       "    <tr>\n",
       "      <th>0</th>\n",
       "      <td>276745</td>\n",
       "      <td>342310538</td>\n",
       "      <td>10</td>\n",
       "      <td>69</td>\n",
       "    </tr>\n",
       "    <tr>\n",
       "      <th>1</th>\n",
       "      <td>276747</td>\n",
       "      <td>671537458</td>\n",
       "      <td>9</td>\n",
       "      <td>31</td>\n",
       "    </tr>\n",
       "    <tr>\n",
       "      <th>2</th>\n",
       "      <td>276755</td>\n",
       "      <td>451166892</td>\n",
       "      <td>5</td>\n",
       "      <td>13</td>\n",
       "    </tr>\n",
       "    <tr>\n",
       "      <th>3</th>\n",
       "      <td>276762</td>\n",
       "      <td>3404611306</td>\n",
       "      <td>0</td>\n",
       "      <td>72</td>\n",
       "    </tr>\n",
       "    <tr>\n",
       "      <th>4</th>\n",
       "      <td>276762</td>\n",
       "      <td>3453213025</td>\n",
       "      <td>3</td>\n",
       "      <td>10</td>\n",
       "    </tr>\n",
       "  </tbody>\n",
       "</table>\n",
       "</div>"
      ],
      "text/plain": [
       "   User-ID        ISBN  Book-Rating  Price\n",
       "0   276745   342310538           10     69\n",
       "1   276747   671537458            9     31\n",
       "2   276755   451166892            5     13\n",
       "3   276762  3404611306            0     72\n",
       "4   276762  3453213025            3     10"
      ]
     },
     "execution_count": 11,
     "metadata": {},
     "output_type": "execute_result"
    }
   ],
   "source": [
    "test.head(5)"
   ]
  },
  {
   "cell_type": "markdown",
   "id": "ec365459",
   "metadata": {},
   "source": [
    "**Soru 3 [20 puan]** Kullanıcı bazlı “Collaborative filtering” yöntemini kullanarak en yakın 5 komşuyu göz önünde alarak test kümesinin ilk beş değeri için yapılan tahmin değerlerini ve gerçek değeri gösteriniz."
   ]
  },
  {
   "cell_type": "code",
   "execution_count": 12,
   "id": "f0c1bf9c",
   "metadata": {},
   "outputs": [],
   "source": [
    "def User_user_filter(data, user_id, item_id, k=10, print_output=False):\n",
    "\n",
    "    utility_matrix = None\n",
    "    if item_id not in data['ISBN'].unique():\n",
    "        if print_output:\n",
    "            print(\"Item not found in train data.\")\n",
    "        return None \n",
    "    \n",
    "    if user_id not in data['User-ID'].unique():\n",
    "        if print_output:\n",
    "            print(\"User not found in train data.\")\n",
    "        return None\n",
    "\n",
    "    filtered_data = data[data['ISBN'] == item_id]\n",
    "    user_ids_with_isbn = filtered_data['User-ID'].tolist()\n",
    "    user_ids_with_isbn.append(user_id)\n",
    "\n",
    "    temp_data = data[data['User-ID'].isin(user_ids_with_isbn)]\n",
    "\n",
    "    utility_matrix = temp_data.groupby(['User-ID', 'ISBN'])['Book-Rating'].max().unstack(fill_value=np.nan)\n",
    "\n",
    "    utility_matrix.index.name = None\n",
    "    utility_matrix.columns.name = None\n",
    "    sparse_dtype = pd.SparseDtype(float, fill_value=np.nan)\n",
    "    utility_matrix = utility_matrix.astype(sparse_dtype)\n",
    "    utility_matrix = utility_matrix.loc[:, ~utility_matrix.columns.duplicated()]\n",
    "\n",
    "    main_vec = utility_matrix.loc[user_id].values\n",
    "\n",
    "    utility_matrix.drop(user_id, axis=0, inplace=True)\n",
    "    utility_matrix['similarity'] = utility_matrix.apply(lambda x: calculate_similarity(main_vec, x.values), axis=1)\n",
    "\n",
    "    most_similar_users = utility_matrix.sort_values(by='similarity', ascending=False).index[:k]\n",
    "\n",
    "    similarities = utility_matrix.loc[most_similar_users]['similarity']\n",
    "    ratings = utility_matrix.loc[most_similar_users][item_id]\n",
    "\n",
    "    \n",
    "    if similarities.sum() == 0:\n",
    "        rec_score = data[data['ISBN'] == item_id]['Book-Rating'].mean()\n",
    "        return round(rec_score,2)\n",
    "    \n",
    "    \n",
    "\n",
    "    rec_score = round(np.dot(ratings, similarities) / similarities.sum(),2)\n",
    "    \n",
    "    return rec_score"
   ]
  },
  {
   "cell_type": "markdown",
   "id": "3a1cff7a",
   "metadata": {},
   "source": [
    "**Item ya da User'ın train setinde olmadığı durumları çıkarttım. Sadece sonuç hesaplanabilen durumları kullandım. Bunları da manuel belirledim. proper_idx listesine atadım.**"
   ]
  },
  {
   "cell_type": "code",
   "execution_count": 13,
   "id": "10d04c1c",
   "metadata": {},
   "outputs": [],
   "source": [
    "proper_idx = [1, 13, 18, 21, 28, 36]"
   ]
  },
  {
   "cell_type": "code",
   "execution_count": 14,
   "id": "c4312729",
   "metadata": {},
   "outputs": [
    {
     "name": "stdout",
     "output_type": "stream",
     "text": [
      "idx : 1\n",
      "Gerçek Değer : 9\n"
     ]
    },
    {
     "name": "stdout",
     "output_type": "stream",
     "text": [
      "Tahmin Değeri : 8.0\n",
      "-----------------------------------\n",
      "idx : 13\n",
      "Gerçek Değer : 0\n",
      "Tahmin Değeri : 8.0\n",
      "-----------------------------------\n",
      "idx : 18\n",
      "Gerçek Değer : 7\n",
      "Tahmin Değeri : 7.36\n",
      "-----------------------------------\n",
      "idx : 21\n",
      "Gerçek Değer : 0\n",
      "Tahmin Değeri : 9.0\n",
      "-----------------------------------\n",
      "idx : 28\n",
      "Gerçek Değer : 10\n",
      "Tahmin Değeri : 7.5\n",
      "-----------------------------------\n",
      "idx : 36\n",
      "Gerçek Değer : 7\n",
      "Tahmin Değeri : 6.0\n",
      "-----------------------------------\n"
     ]
    }
   ],
   "source": [
    "for idx in proper_idx:\n",
    "    print(\"idx :\", idx)\n",
    "    user_id = test.iloc[idx]['User-ID']\n",
    "    isbn = test.iloc[idx]['ISBN']\n",
    "    print('Gerçek Değer :' ,test.iloc[idx]['Book-Rating'])\n",
    "    print('Tahmin Değeri :' , User_user_filter(train,  user_id, isbn, k= 5))\n",
    "    print('-----------------------------------')"
   ]
  },
  {
   "cell_type": "markdown",
   "id": "d79e1221",
   "metadata": {},
   "source": [
    "**Soru 4 [15 puan]**  Item bazlı “Collaborative filtering” yöntemini kullanarak en yakın komşu sayısı 1, 3, 5, ve 7 olduğunda test kümesi üzerinde RMSE değerlerini hesaplayınız ve sonuçlarınızı bir figür ya da tablo gibi açıkca anlaşılacak bir şekilde gösteriniz."
   ]
  },
  {
   "cell_type": "code",
   "execution_count": 15,
   "id": "c928875e",
   "metadata": {},
   "outputs": [
    {
     "name": "stdout",
     "output_type": "stream",
     "text": [
      "Before : (104845, 4)\n",
      "After : (23910, 4)\n"
     ]
    }
   ],
   "source": [
    "print(\"Before :\",test.shape)\n",
    "\"\"\"\n",
    "0 olanların gerçek değerleri olmadığı için çıkardım.\n",
    "Trainde olmayan kullanıcıları ve kitapları çıkardım.\n",
    "Yoksa RMSE hesaplamak çok uzun sürüyor.\n",
    "Aşağıdaki 4-5. soruları test_ üzerinden yaptım.\n",
    "\"\"\"\n",
    "test = test[test['Book-Rating'] != 0]\n",
    "test = test[test['User-ID'].isin(train['User-ID'])]\n",
    "test = test[test['ISBN'].isin(train['ISBN'])]\n",
    "test.drop_duplicates(subset=['User-ID', 'ISBN'], keep='first', inplace=True)\n",
    "print(\"After :\",test.shape)\n",
    "\n",
    "test_idx = []\n",
    "shift = test.shape[0]//10\n",
    "for i in range(0, test.shape[0], shift):\n",
    "    test_idx.append(i)\n",
    "\n",
    "test_ = test.iloc[test_idx, :]"
   ]
  },
  {
   "cell_type": "code",
   "execution_count": 16,
   "id": "686055b3",
   "metadata": {},
   "outputs": [
    {
     "name": "stdout",
     "output_type": "stream",
     "text": [
      "k =  1 için RMSE değeri:  2.572158626523644\n",
      "k =  3 için RMSE değeri:  2.5435762225653864\n",
      "k =  5 için RMSE değeri:  2.5575378785073744\n",
      "k =  7 için RMSE değeri:  2.59085314134167\n"
     ]
    }
   ],
   "source": [
    "RMSE_values = []\n",
    "test_predicts = []\n",
    "for k in range(1,8,2):\n",
    "    predict = []\n",
    "    for idx in test_.index:\n",
    "        predict.append(Item_item_filter(train, test_.loc[idx, 'ISBN'], test_.loc[idx, 'User-ID'], k, print_output=False))\n",
    "    test_predicts.append(predict)\n",
    "    test_['predict'] = predict\n",
    "    RMSE = np.sqrt(np.mean((test_['predict'] - test_['Book-Rating'])**2))\n",
    "    RMSE_values.append(RMSE)\n",
    "    print('k = ', k, 'için RMSE değeri: ', RMSE)"
   ]
  },
  {
   "cell_type": "code",
   "execution_count": 17,
   "id": "78ffaf8f",
   "metadata": {},
   "outputs": [
    {
     "data": {
      "image/png": "[encoded data removed]",
      "text/plain": [
       "<Figure size 640x480 with 1 Axes>"
      ]
     },
     "metadata": {},
     "output_type": "display_data"
    }
   ],
   "source": [
    "import matplotlib.pyplot as plt\n",
    "plt.plot(range(1,8,2), RMSE_values)\n",
    "plt.xlabel('k')\n",
    "plt.ylabel('RMSE')\n",
    "plt.show()"
   ]
  },
  {
   "cell_type": "markdown",
   "id": "fb0e3856",
   "metadata": {},
   "source": [
    "**Soru 5 [15 puan]**  Kullanıcı bazlı “Collaborative filtering” yöntemini kullanarak en yakın komşu sayısı 1, 3, 5, ve 7 olduğunda test kümesi üzerinde RMSE değerlerini hesaplayınız ve sonuçlarınızı bir figür ya da tablo gibi açıkca anlaşılacak bir şekilde gösteriniz."
   ]
  },
  {
   "cell_type": "code",
   "execution_count": 18,
   "id": "8c1e79d3",
   "metadata": {},
   "outputs": [
    {
     "name": "stdout",
     "output_type": "stream",
     "text": [
      "k =  1 için RMSE değeri:  2.046939178383178\n",
      "k =  3 için RMSE değeri:  1.9691978062145001\n",
      "k =  5 için RMSE değeri:  1.9522602285556092\n",
      "k =  7 için RMSE değeri:  1.9628346848372125\n"
     ]
    }
   ],
   "source": [
    "RMSE_values = []\n",
    "test_predicts = []\n",
    "for k in range(1,8,2):\n",
    "    predict = []\n",
    "    for idx in test_.index:\n",
    "        predict.append(User_user_filter(train, test_.loc[idx, 'User-ID'], test_.loc[idx, 'ISBN'], k, print_output=False))\n",
    "    test_predicts.append(predict)\n",
    "    test_['predict'] = predict\n",
    "    RMSE = np.sqrt(np.mean((test_['predict'] - test_['Book-Rating'])**2))\n",
    "    RMSE_values.append(RMSE)\n",
    "    print('k = ', k, 'için RMSE değeri: ', RMSE)"
   ]
  },
  {
   "cell_type": "code",
   "execution_count": 19,
   "id": "1b5cb203",
   "metadata": {},
   "outputs": [
    {
     "data": {
      "image/png": "[encoded data removed]",
      "text/plain": [
       "<Figure size 640x480 with 1 Axes>"
      ]
     },
     "metadata": {},
     "output_type": "display_data"
    }
   ],
   "source": [
    "import matplotlib.pyplot as plt\n",
    "plt.plot(range(1,8,2), RMSE_values)\n",
    "plt.xlabel('k')\n",
    "plt.ylabel('RMSE')\n",
    "plt.show()"
   ]
  },
  {
   "cell_type": "markdown",
   "id": "27925990",
   "metadata": {},
   "source": [
    "**Soru 6 [25 puan]**  Kullanıcıya döndüğünüz ürünlerden ilk 5'inde 9 veya 10 puan olan ürünleri satın alacak. "
   ]
  },
  {
   "cell_type": "code",
   "execution_count": 36,
   "id": "d15e2480",
   "metadata": {},
   "outputs": [
    {
     "data": {
      "text/plain": [
       "(144, 4)"
      ]
     },
     "execution_count": 36,
     "metadata": {},
     "output_type": "execute_result"
    }
   ],
   "source": [
    "random_users = np.random.choice(test['User-ID'].unique(), size=50, replace=False)\n",
    "random_test = test[test['User-ID'].isin(random_users)]\n",
    "random_test.shape"
   ]
  },
  {
   "cell_type": "markdown",
   "id": "7bacbbb5",
   "metadata": {},
   "source": [
    "**a) Bir kullanıcı maksimum 5 ürün alacaksa, test kümesinde maksimum toplam satış kaç olabilir?** \n",
    "\n",
    "Tüm test verisinde yapmak uzun sürdüğü için yukardaki gibi sample alıp o şekilde yaptım."
   ]
  },
  {
   "cell_type": "code",
   "execution_count": 37,
   "id": "01792ed6",
   "metadata": {},
   "outputs": [],
   "source": [
    "random_test['Predict_by_Item_item'] = random_test.apply(lambda row: Item_item_filter(train, row['ISBN'], row['User-ID'], k = 5), axis=1)"
   ]
  },
  {
   "cell_type": "code",
   "execution_count": 38,
   "id": "40687592",
   "metadata": {},
   "outputs": [],
   "source": [
    "random_test['Predict_by_User_user'] = random_test.apply(lambda row: User_user_filter(train, row['User-ID'], row['ISBN'], k = 5), axis=1)"
   ]
  },
  {
   "cell_type": "code",
   "execution_count": 40,
   "id": "202ab923",
   "metadata": {},
   "outputs": [
    {
     "name": "stdout",
     "output_type": "stream",
     "text": [
      "We are predicting total buyable items for 50 users with 144 books reaed by them.\n"
     ]
    }
   ],
   "source": [
    "print(\"We are predicting total buyable items for {} users with {} books reaed by them.\".format(len(random_test[\"User-ID\"].unique()), random_test.shape[0]))"
   ]
  },
  {
   "cell_type": "code",
   "execution_count": 41,
   "id": "3ecc649b",
   "metadata": {},
   "outputs": [
    {
     "name": "stdout",
     "output_type": "stream",
     "text": [
      "Total Buyable Item for 50 users by Item-item Collaborative filter: 37\n"
     ]
    }
   ],
   "source": [
    "total_buyable_item = 0\n",
    "for user in random_test['User-ID'].unique():\n",
    "    user_df = random_test[random_test['User-ID'] == user]\n",
    "    item_count = 0\n",
    "    for item in user_df['ISBN'].unique():\n",
    "        if user_df[user_df['ISBN'] == item]['Predict_by_Item_item'].values[0] >= 9:\n",
    "            item_count += 1\n",
    "    total_buyable_item += min(item_count, 5)\n",
    "\n",
    "print('Total Buyable Item for {} users by Item-item Collaborative filter: {}'.format(len(random_test['User-ID'].unique()), total_buyable_item))"
   ]
  },
  {
   "cell_type": "code",
   "execution_count": 42,
   "id": "560dbda1",
   "metadata": {},
   "outputs": [
    {
     "name": "stdout",
     "output_type": "stream",
     "text": [
      "Total Buyable Item for 50 users by User-user Collaborative filter: 35\n"
     ]
    }
   ],
   "source": [
    "total_buyable_item = 0\n",
    "for user in random_test['User-ID'].unique():\n",
    "    user_df = random_test[random_test['User-ID'] == user]\n",
    "    item_count = 0\n",
    "    for item in user_df['ISBN'].unique():\n",
    "        if user_df[user_df['ISBN'] == item]['Predict_by_User_user'].values[0] >= 9:\n",
    "            item_count += 1\n",
    "    total_buyable_item += min(item_count, 5)\n",
    "\n",
    "print('Total Buyable Item for {} users by User-user Collaborative filter: {}'.format(len(random_test['User-ID'].unique()), total_buyable_item))"
   ]
  },
  {
   "cell_type": "markdown",
   "id": "cba28cda",
   "metadata": {},
   "source": [
    "**b) Önceki sorularda geliştirdiğiniz kullanıcı bazlı “Collaborative filtering” ve Item bazlı “Collaborative filtering” yöntemlerine göre firmanın kazanacağı parayı hesaplayınız. “Collaborative filtering” yöntemlerinde bakılacak en yakın komşu sayısı 5'tir.**"
   ]
  },
  {
   "cell_type": "code",
   "execution_count": 43,
   "id": "9e4382e2",
   "metadata": {},
   "outputs": [
    {
     "name": "stdout",
     "output_type": "stream",
     "text": [
      "Total Income for 50 users by Item-item Collaborative filter: 2061\n"
     ]
    }
   ],
   "source": [
    "total_income = 0\n",
    "for user in random_test['User-ID'].unique():\n",
    "    user_df = random_test[random_test['User-ID'] == user]\n",
    "    prices = []\n",
    "    for item in user_df['ISBN'].unique():\n",
    "        if user_df[user_df['ISBN'] == item]['Predict_by_Item_item'].values[0] >= 9:\n",
    "            prices.append(user_df[user_df['ISBN'] == item]['Price'].values[0])\n",
    "\n",
    "    total_income += sum(prices[:5]) if len(prices) >= 5 else sum(prices)\n",
    "\n",
    "\n",
    "print('Total Income for {} users by Item-item Collaborative filter: {}'.format(len(random_test['User-ID'].unique()), total_income))"
   ]
  },
  {
   "cell_type": "code",
   "execution_count": 44,
   "id": "2fc2c36d",
   "metadata": {},
   "outputs": [
    {
     "name": "stdout",
     "output_type": "stream",
     "text": [
      "Total Income for 50 users by User-user Collaborative filter: 2022\n"
     ]
    }
   ],
   "source": [
    "total_income = 0\n",
    "for user in random_test['User-ID'].unique():\n",
    "    user_df = random_test[random_test['User-ID'] == user]\n",
    "    prices = []\n",
    "    for item in user_df['ISBN'].unique():\n",
    "        if user_df[user_df['ISBN'] == item]['Predict_by_User_user'].values[0] >= 9:\n",
    "            prices.append(user_df[user_df['ISBN'] == item]['Price'].values[0])\n",
    "\n",
    "    total_income += sum(prices[:5]) if len(prices) >= 5 else sum(prices)\n",
    "\n",
    "\n",
    "print('Total Income for {} users by User-user Collaborative filter: {}'.format(len(random_test['User-ID'].unique()), total_income))"
   ]
  },
  {
   "cell_type": "markdown",
   "id": "24346883",
   "metadata": {},
   "source": [
    "**c) Firmanın kazandığı parayı da arttıracak şekilde Item bazlı “Collaborative filtering” yöntemini geliştiriniz. Önerdiğiniz yöntem ile ne kadar kazanç olacağını hesaplayınız.**"
   ]
  },
  {
   "cell_type": "code",
   "execution_count": 45,
   "id": "bbb59617",
   "metadata": {},
   "outputs": [],
   "source": [
    "def book_recommendation(data, user_id):\n",
    "    books_read_by_user = data[data[\"User-ID\"] == user_id]['ISBN'].unique()\n",
    "    \n",
    "    important_users = []\n",
    "    \n",
    "    for user in data['User-ID'].unique():\n",
    "        books_by_user = data[data[\"User-ID\"] == user]['ISBN'].unique()\n",
    "        intersection = np.intersect1d(books_read_by_user, books_by_user)\n",
    "        if len(intersection) == len(books_by_user): # user'a önerebileceğimiz başka kitap yok\n",
    "            continue\n",
    "\n",
    "        if len(intersection) >= 1:\n",
    "            if len(intersection) == 1: \n",
    "                if data[(data[\"User-ID\"] == user) & (data[\"ISBN\"] == intersection[0])]['Book-Rating'].values[0] < 9: # user'ın okuduğu kitap 9'dan küçük puan almışsa\n",
    "                    continue\n",
    "\n",
    "            important_users.append(user)\n",
    "\n",
    "    if important_users == []:\n",
    "        return None\n",
    "\n",
    "    important_users.append(user_id)\n",
    "\n",
    "    check_data = data[data['User-ID'].isin(important_users)]\n",
    "\n",
    "    not_readed_books = check_data[~check_data['ISBN'].isin(books_read_by_user)]['ISBN'].unique()\n",
    "    not_readed_books = check_data[check_data['ISBN'].isin(not_readed_books)].sort_values('Price', ascending = False)['ISBN'].unique() # önce en pahalı kitapları önermeye çalışıyorum\n",
    "\n",
    "    recommended_books = []\n",
    "\n",
    "    for book in not_readed_books:\n",
    "        pred = Item_item_filter(check_data, book, user_id, k = 3)\n",
    "        if pred >= 9: # user 9 üzeri puan vereceği kitapları öneriyoruz\n",
    "            recommended_books.append(book)\n",
    "            if len(recommended_books) == 5: #en fazla 5 kitap alıyor.\n",
    "                break\n",
    "\n",
    "    return recommended_books"
   ]
  },
  {
   "cell_type": "code",
   "execution_count": 46,
   "id": "cfd1647c",
   "metadata": {},
   "outputs": [],
   "source": [
    "random_users = np.random.choice(test['User-ID'], size = 50 , replace = False)"
   ]
  },
  {
   "cell_type": "code",
   "execution_count": 47,
   "id": "1a5c54e3",
   "metadata": {},
   "outputs": [
    {
     "name": "stdout",
     "output_type": "stream",
     "text": [
      "Total income by 50 users is 5335$\n"
     ]
    }
   ],
   "source": [
    "total_income = 0\n",
    "\n",
    "for user in random_users:\n",
    "    recommendations = book_recommendation(train, user)\n",
    "    if recommendations is not None:\n",
    "        for book in recommendations:\n",
    "            book_price = train[train['ISBN'] == book]['Price'].mean()\n",
    "            total_income += book_price\n",
    "\n",
    "print(\"Total income by {} users is {}$\".format(len(random_users), round(total_income)))"
   ]
  },
  {
   "cell_type": "code",
   "execution_count": null,
   "id": "491ed930",
   "metadata": {},
   "outputs": [],
   "source": []
  },
  {
   "cell_type": "code",
   "execution_count": null,
   "id": "f3cf3704",
   "metadata": {},
   "outputs": [],
   "source": []
  }
 ],
 "metadata": {
  "kernelspec": {
   "display_name": "Python 3",
   "language": "python",
   "name": "python3"
  },
  "language_info": {
   "codemirror_mode": {
    "name": "ipython",
    "version": 3
   },
   "file_extension": ".py",
   "mimetype": "text/x-python",
   "name": "python",
   "nbconvert_exporter": "python",
   "pygments_lexer": "ipython3",
   "version": "3.9.7"
  }
 },
 "nbformat": 4,
 "nbformat_minor": 5
}
